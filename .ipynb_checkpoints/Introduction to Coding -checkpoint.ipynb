{
 "cells": [
  {
   "cell_type": "markdown",
   "metadata": {},
   "source": [
    "# An Introduction to Coding\n",
    "\n",
    "This tutorial will review coding basics for people who are new to coding. \n"
   ]
  },
  {
   "cell_type": "markdown",
   "metadata": {},
   "source": [
    "## Assigning Values\n",
    "\n",
    "You can assign a variable a value or a list of values using the equal = sign. \n",
    "\n",
    "For example,"
   ]
  },
  {
   "cell_type": "code",
   "execution_count": 4,
   "metadata": {
    "collapsed": true
   },
   "outputs": [],
   "source": [
    "x = 9"
   ]
  },
  {
   "cell_type": "markdown",
   "metadata": {},
   "source": [
    "You can make variable names more specific and use underscores _ to do this. This is different from a - sign, which Python recognizes as subtraction. \n"
   ]
  },
  {
   "cell_type": "code",
   "execution_count": 5,
   "metadata": {
    "collapsed": true
   },
   "outputs": [],
   "source": [
    "x_new = 16"
   ]
  },
  {
   "cell_type": "markdown",
   "metadata": {},
   "source": [
    "## Importing Modules\n",
    "Periods are used to define the package from which you are pulling functions or information from. \n",
    "\n",
    "Packages store modules which are files that contain useful functions. \n",
    "\n",
    "One such file that we will use often is NumPy. This stands for Numbers in Python and it contains many functions that are helpful in doing math like the square root function, or converting a list of values to an array type. \n",
    "\n",
    "To be able to access the functions that are in NumPy, you will need to import numpy. "
   ]
  },
  {
   "cell_type": "code",
   "execution_count": 6,
   "metadata": {
    "collapsed": true
   },
   "outputs": [],
   "source": [
    "import numpy as np"
   ]
  },
  {
   "cell_type": "markdown",
   "metadata": {},
   "source": [
    "We import numpy as np so when we want to reference numpy again, we can just type \"np\" instead of \"numpy\" when we want to access functions inside numpy. Now, we can access functions within numpy. \n",
    "\n",
    "To find the square root of x, we can use the square root function. The square root function takes one input within parenthesis ( ), but other functions may take more inputs. "
   ]
  },
  {
   "cell_type": "code",
   "execution_count": 7,
   "metadata": {
    "collapsed": true
   },
   "outputs": [],
   "source": [
    "sqrt_9 = np.sqrt(x)\n"
   ]
  },
  {
   "cell_type": "markdown",
   "metadata": {},
   "source": [
    "## Printing\n",
    "\n",
    "Once we set a variable to a certain value, we want to display it so it is useful and not only stored without being shown to the user. \n",
    "\n",
    "We can do this with a print function. Print functions can include strings (text) within parenthesis and can also include variable values by using either a comma , or a plus +. Sometimes you will have to convert a varaible to a string by using the str() function. "
   ]
  },
  {
   "cell_type": "code",
   "execution_count": 8,
   "metadata": {},
   "outputs": [
    {
     "name": "stdout",
     "output_type": "stream",
     "text": [
      "The square root of 9 is 3.0\n",
      "The square root of 9 is 3.0\n"
     ]
    }
   ],
   "source": [
    "print('The square root of 9 is '+str(sqrt_9))\n",
    "\n",
    "print('The square root of 9 is', sqrt_9)"
   ]
  },
  {
   "cell_type": "markdown",
   "metadata": {},
   "source": [
    "## aide_design\n",
    "\n",
    "aide_design is the name of a package that we use in order to access important files concerning fluids functions and pipe diameters that will prove useful in solving design challenges. \n",
    "\n",
    "First, we will need to import aide_design, and from it, import files like physchem and units."
   ]
  },
  {
   "cell_type": "code",
   "execution_count": 9,
   "metadata": {
    "collapsed": true
   },
   "outputs": [],
   "source": [
    "from aide_design import physchem as pc\n",
    "\n",
    "from aide_design.units import unit_registry as u"
   ]
  },
  {
   "cell_type": "markdown",
   "metadata": {},
   "source": [
    "### Units\n",
    "\n",
    "The units file will allow us to add units to variables we create. You add units by multiplying units, called by u. with the variable or value. Let's use x_new from above. "
   ]
  },
  {
   "cell_type": "code",
   "execution_count": 10,
   "metadata": {},
   "outputs": [
    {
     "name": "stdout",
     "output_type": "stream",
     "text": [
      "16 meter\n"
     ]
    }
   ],
   "source": [
    "x_new_units = x_new * u.m\n",
    "\n",
    "print(x_new_units)"
   ]
  },
  {
   "cell_type": "markdown",
   "metadata": {},
   "source": [
    "I can covert these units through the .to function. "
   ]
  },
  {
   "cell_type": "code",
   "execution_count": 11,
   "metadata": {},
   "outputs": [
    {
     "data": {
      "text/html": [
       "16000.0 millimeter"
      ],
      "text/latex": [
       "$16000.0\\ \\mathrm{millimeter}$"
      ],
      "text/plain": [
       "<Quantity(16000.0, 'millimeter')>"
      ]
     },
     "execution_count": 11,
     "metadata": {},
     "output_type": "execute_result"
    }
   ],
   "source": [
    "x_new_units.to(u.mm)"
   ]
  },
  {
   "cell_type": "markdown",
   "metadata": {},
   "source": [
    "### Physchem\n",
    "\n",
    "Physchem contains many useful functions relating to hydraulics and fluids. One such function that is useful is the flow through an orifice, or a small hole. This function is called flow_orifice(Diam, Height, RatioVCOrifice) and it takes three inputs. The three inputs will be diameter, height of water, and a vena contracta ratio. \n",
    "- You can run a function using no units. Default SI units will be applied (m, m^3, s,...)\n",
    "- You can run a function using any units you want. The function will convert the units for you. \n",
    "- You can run a function using previously defined variables as well as with direct values. "
   ]
  },
  {
   "cell_type": "code",
   "execution_count": 12,
   "metadata": {},
   "outputs": [
    {
     "name": "stdout",
     "output_type": "stream",
     "text": [
      "0.0002157 meter ** 3 / second\n",
      "1.391e-05 meter ** 3 / second\n",
      "0.001052 meter ** 3 / second\n"
     ]
    }
   ],
   "source": [
    "flow_with_values = pc.flow_orifice(0.01, 1, 0.62)\n",
    "print(flow_with_values)\n",
    "\n",
    "flow_with_many_units = pc.flow_orifice (0.1 * u.inch, 0.001 * u.km, 0.62)\n",
    "print(flow_with_many_units)\n",
    "\n",
    "Diam = 5 * u.cm\n",
    "Height = 1/8 * u.feet\n",
    "flow_with_variables = pc.flow_orifice(Diam, Height, 0.62)\n",
    "print(flow_with_variables)"
   ]
  },
  {
   "cell_type": "markdown",
   "metadata": {},
   "source": [
    "### Significant Figures\n",
    "\n",
    "In the last cell, many significant figures were printed out. This is ugly to look at so let's only print 3 significant figures. To do this, we will need one more module, utility, which contains a significant figures function. The significant figures function takes two inputs, the variable or value, and the number of significant figures to be displayed. "
   ]
  },
  {
   "cell_type": "code",
   "execution_count": 13,
   "metadata": {
    "collapsed": true
   },
   "outputs": [],
   "source": [
    "from aide_design import utility as ut"
   ]
  },
  {
   "cell_type": "code",
   "execution_count": 14,
   "metadata": {},
   "outputs": [
    {
     "name": "stdout",
     "output_type": "stream",
     "text": [
      "The flow with 3 significant figures is 1.39e-5 m³/s\n"
     ]
    }
   ],
   "source": [
    "print('The flow with 3 significant figures is '+ut.sig(flow_with_many_units,3))"
   ]
  },
  {
   "cell_type": "code",
   "execution_count": null,
   "metadata": {
    "collapsed": true
   },
   "outputs": [],
   "source": []
  },
  {
   "cell_type": "code",
   "execution_count": null,
   "metadata": {
    "collapsed": true
   },
   "outputs": [],
   "source": []
  },
  {
   "cell_type": "code",
   "execution_count": null,
   "metadata": {
    "collapsed": true
   },
   "outputs": [],
   "source": []
  },
  {
   "cell_type": "code",
   "execution_count": null,
   "metadata": {
    "collapsed": true
   },
   "outputs": [],
   "source": []
  },
  {
   "cell_type": "code",
   "execution_count": null,
   "metadata": {
    "collapsed": true
   },
   "outputs": [],
   "source": []
  },
  {
   "cell_type": "code",
   "execution_count": null,
   "metadata": {
    "collapsed": true
   },
   "outputs": [],
   "source": []
  },
  {
   "cell_type": "code",
   "execution_count": null,
   "metadata": {
    "collapsed": true
   },
   "outputs": [],
   "source": []
  },
  {
   "cell_type": "code",
   "execution_count": null,
   "metadata": {
    "collapsed": true
   },
   "outputs": [],
   "source": []
  },
  {
   "cell_type": "code",
   "execution_count": null,
   "metadata": {
    "collapsed": true
   },
   "outputs": [],
   "source": []
  },
  {
   "cell_type": "code",
   "execution_count": null,
   "metadata": {
    "collapsed": true
   },
   "outputs": [],
   "source": []
  },
  {
   "cell_type": "code",
   "execution_count": null,
   "metadata": {
    "collapsed": true
   },
   "outputs": [],
   "source": []
  },
  {
   "cell_type": "code",
   "execution_count": null,
   "metadata": {
    "collapsed": true
   },
   "outputs": [],
   "source": []
  },
  {
   "cell_type": "code",
   "execution_count": null,
   "metadata": {
    "collapsed": true
   },
   "outputs": [],
   "source": []
  },
  {
   "cell_type": "code",
   "execution_count": null,
   "metadata": {
    "collapsed": true
   },
   "outputs": [],
   "source": []
  },
  {
   "cell_type": "code",
   "execution_count": null,
   "metadata": {
    "collapsed": true
   },
   "outputs": [],
   "source": []
  },
  {
   "cell_type": "code",
   "execution_count": null,
   "metadata": {
    "collapsed": true
   },
   "outputs": [],
   "source": []
  }
 ],
 "metadata": {
  "kernelspec": {
   "display_name": "Python 3",
   "language": "python",
   "name": "python3"
  },
  "language_info": {
   "codemirror_mode": {
    "name": "ipython",
    "version": 3
   },
   "file_extension": ".py",
   "mimetype": "text/x-python",
   "name": "python",
   "nbconvert_exporter": "python",
   "pygments_lexer": "ipython3",
   "version": "3.6.3"
  }
 },
 "nbformat": 4,
 "nbformat_minor": 2
}
