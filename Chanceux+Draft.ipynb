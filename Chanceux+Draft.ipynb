{
 "cells": [
  {
   "cell_type": "code",
   "execution_count": 1,
   "metadata": {
    "collapsed": true
   },
   "outputs": [],
   "source": [
    "from aide_design.play import*\n",
    "from aide_design import floc_model as floc\n",
    "from aide_design import cdc_functions as cdc\n",
    "from aide_design.unit_process_design.prefab import lfom_prefab_functional as lfom\n",
    "from pytexit import py2tex\n",
    "import math\n"
   ]
  },
  {
   "cell_type": "markdown",
   "metadata": {},
   "source": [
    "# 1 L/s Plants in Parallel "
   ]
  },
  {
   "cell_type": "markdown",
   "metadata": {},
   "source": [
    "# CHANCEUX\n",
    "## Priya Aggarwal, Sung Min Kim, Felix Yang\n",
    "\n"
   ]
  },
  {
   "cell_type": "markdown",
   "metadata": {},
   "source": [
    "### Monroe's comments \n",
    "\n",
    "* Add the team name under the title. **fixed**\n",
    "* Add the names of the students who are writing this report under the team name. **fixed**\n",
    "* See if you can figure out how to access PACl viscosity. I believe it is defined in the floc model python file. PACl stock solution viscosity is quite a bit higher than water. **fixed**\n",
    "* Use SI units in your analysis **fixed**\n",
    "* Document your code. Explain your solution approach before jumping in to Python.\n",
    "* The picture you intended to show wasn't available to me. Include it as a zipped file next time.\n",
    "* below you do math in the markdown text box. Use python to do math!\n",
    "* Discuss pro/con of standardization and modular design vs different designs for each flow rate. \n",
    "* Discuss changes that a community would need to make to add capacity by purchasing another 1 L/s plant. Note the impact of standardization on the changes they would need to make.\n",
    "* Always strive to create the general solution. In this case let the target flow rate be a variable and use that to set the number of plants that will be working in parallel. This will make your code much more useful and will actually improve the documentation of the code because you will no longer be using random constants. Instead you will be using variables with clear names.\n",
    "* Once you determine which pieces of the plant change with flow rate, then you can focus on creating the design algorithms for those components.\n",
    "* I'm eager to see what you develop\n",
    "\n"
   ]
  },
  {
   "cell_type": "markdown",
   "metadata": {},
   "source": [
    "### Pros/Cons\n",
    "* Pros for standardization : Mass production is going to be preferred if this technology becomes more widely used.\n",
    "* Cons against standardization: Not every situation will be the same.\n",
    "\n",
    "* Pros for different designs : Can be made for each and every situation. We also don't have a very big range. \n",
    "* Cons against different designs: Tedious and busy work. "
   ]
  },
  {
   "cell_type": "markdown",
   "metadata": {},
   "source": [
    "AguaClara, which began building plants in Honduras in 2005, India in 2013, and most recently Nicaragua in 2017, has provided gravity powered water treatment systems to thousands of people in rural communities. However, there were still populations that could not be targeted due to AguaClara technology only being scaled up from 6 L/s. For towns and rural areas with populations smaller than a thousand, sustainable water treatment technology was still out of their grasp.\n",
    "\n",
    "Recently a one liter per second (1 LPS) plant was developed based on traditional AguaClara technology, to bring sustainable water treatment to towns with populations of at 300 people per plant. \n",
    "\n",
    "The first plant that was ever fabricated was sent to Cuatro Comunidades in Honduras and is currently operating without the filter attachment, also known as EStaRS. Enclosed Stacked Rapid Sand Filter is the last step in the 1LPS plant processes before chlorination and completes the 4 step water treatment process of: flocculation, sedimentation, filtration, and chlorination.\n",
    "Having water treatment plants for smaller plants would increase AguaClara’s reach and allow it to help more people. Despite being in its initial stages, the demand for this technology is increasing. Three 1 LPS were recently ordered for a town that did not have water treatment, compared to Cuatro Communidades where there already was a running water treatment plant. However, the implementation of treatment plants is a problem that has not been solved. \n",
    "\n",
    "This project has stemmed from the possibility of implementing AguaClara technologies to be helpful in Puerto Rico’s post hurricane rebuild effort. This goal of this project is to assess whether the portable 1 L/s plant could be a viable option to help rural communities have safe drinking water. The project models a series of 1 L/s plants working in parallel to provide for the community. \n",
    "\n",
    "Based on our initial response to this problem below is the solution we are proposing. Sedimentation Tanks should definitely be run in parallel and flow coming into the plant doesn’t have to be split until after the entrance tank or even after the flocculator. This is because one entrance tank and one chemical dosing controller would be more easily manageable than three.\n",
    "1.\tBigger entrance tank according to flow rate - as opposed to 3 entrance tanks.\n",
    "2.\tBigger Flocculator - As opposed to 3 flocculators.\n",
    "3.\tMore coagulant/CL according to flow\n",
    "4.\tSed Tanks in Parallel\n",
    "5.\tRecombine flow for Filtration\n",
    "\n",
    "We show further calculations to prove why these are the best options\n",
    "\n",
    "\n"
   ]
  },
  {
   "cell_type": "code",
   "execution_count": 2,
   "metadata": {},
   "outputs": [
    {
     "ename": "NameError",
     "evalue": "name 'Q_plant' is not defined",
     "output_type": "error",
     "traceback": [
      "\u001b[1;31m---------------------------------------------------------------------------\u001b[0m",
      "\u001b[1;31mNameError\u001b[0m                                 Traceback (most recent call last)",
      "\u001b[1;32m<ipython-input-2-9eefee82b770>\u001b[0m in \u001b[0;36m<module>\u001b[1;34m()\u001b[0m\n\u001b[0;32m      7\u001b[0m \u001b[0mRatioError\u001b[0m \u001b[1;33m=\u001b[0m \u001b[1;36m0.1\u001b[0m\u001b[1;33m\u001b[0m\u001b[0m\n\u001b[0;32m      8\u001b[0m \u001b[0mKMinor\u001b[0m \u001b[1;33m=\u001b[0m \u001b[1;36m2\u001b[0m\u001b[1;33m\u001b[0m\u001b[0m\n\u001b[1;32m----> 9\u001b[1;33m \u001b[0mQ_CDC\u001b[0m\u001b[1;33m=\u001b[0m\u001b[1;33m(\u001b[0m\u001b[0mQ_plant\u001b[0m\u001b[1;33m*\u001b[0m\u001b[0mDesiredCl_Concentration\u001b[0m\u001b[1;33m/\u001b[0m\u001b[0mC_stock_PACl\u001b[0m\u001b[1;33m)\u001b[0m\u001b[1;33m.\u001b[0m\u001b[0mto\u001b[0m\u001b[1;33m(\u001b[0m\u001b[0mu\u001b[0m\u001b[1;33m.\u001b[0m\u001b[0mmL\u001b[0m\u001b[1;33m/\u001b[0m\u001b[0mu\u001b[0m\u001b[1;33m.\u001b[0m\u001b[0ms\u001b[0m\u001b[1;33m)\u001b[0m\u001b[1;33m\u001b[0m\u001b[0m\n\u001b[0m\u001b[0;32m     10\u001b[0m \u001b[1;31m#print('The flow rate of coagulant for 3 L/s is', Q_CDC)\u001b[0m\u001b[1;33m\u001b[0m\u001b[1;33m\u001b[0m\u001b[0m\n\u001b[0;32m     11\u001b[0m \u001b[1;31m#print('The flow rate of coagulant for 3 L/s per hour is ',Q_CDC.to(u.L/u.hour)) ##L/hr\u001b[0m\u001b[1;33m\u001b[0m\u001b[1;33m\u001b[0m\u001b[0m\n",
      "\u001b[1;31mNameError\u001b[0m: name 'Q_plant' is not defined"
     ]
    }
   ],
   "source": [
    "Q_Plant=3*u.L/u.s\n",
    "T = u.Quantity(20,u.degC)\n",
    "Headloss=10*u.cm \n",
    "DesiredCl_Concentration=3*u.mg/u.L\n",
    "C_stock_PACl=70*u.gram/u.L\n",
    "NuPaCl = cdc.viscosity_kinematic_pacl(C_stock_PACl,T)\n",
    "RatioError = 0.1\n",
    "KMinor = 2\n",
    "Q_CDC=(Q_plant*DesiredCl_Concentration/C_stock_PACl).to(u.mL/u.s)\n",
    "#print('The flow rate of coagulant for 3 L/s is', Q_CDC)\n",
    "#print('The flow rate of coagulant for 3 L/s per hour is ',Q_CDC.to(u.L/u.hour)) ##L/hr\n",
    "\n",
    "#VA_Plant=3VA_Singular\n",
    "#A_Plant=3A_Singular\n",
    "#(pi*D_2^2)/4=(pi*D_1^2)/4\n",
    "#D_2^2=3*D_1^2\n",
    "#D_2=(3^.5)*D_1\n",
    "Q_Singular_Floc=(1/3)*Q_plant\n",
    "D_Flocculator=3*u.inch\n",
    "\n",
    "D_new_floc= np.sqrt(3)*D_Flocculator ## This 3 inch is based off of the current 1lPS\n",
    "#print('The diameter of the flocculator plant is',D_new_floc)\n",
    "\n",
    "def FlocculatorSize(Q_Plant):\n",
    "    Diam_Flocculator=(Q_Plant.magnitude**.5)*3*u.inch\n",
    "    SDR=26\n",
    "    Pipe_Diam=pipe.ND_SDR_available(Diam_Flocculator,SDR)\n",
    "    print(Pipe_Diam)\n",
    "    return(Diam_Flocculator)\n",
    "FlocculatorSize(Q_Plant)\n",
    "\n",
    "\n",
    "\n"
   ]
  },
  {
   "cell_type": "markdown",
   "metadata": {},
   "source": [
    "SPACE CONSTRAINTS: \n",
    "\n",
    "SED TANK: Each sedimentation tank is 36 in diameter. The top half is 42.75 inches slanted. \n",
    "x component that protrudes out= 42.75*cos(30)-18=19 inches. \n",
    "\n",
    "FLOCCULATOR: We want symmetrical piping system coming out of the flocculator so that available head going into the parallel sedimentation tanks will be the same. We will have an asymmetrical exit lauder system coming out of the sedimentation tanks going into the STaRS (diagram). \n",
    "\n",
    "Additionally the picture should have the sedimentation tanks in reverse so that the slanted side is closer to the platform. \n",
    "![image.png](attachment:image.png)\n"
   ]
  },
  {
   "cell_type": "markdown",
   "metadata": {},
   "source": [
    "The horizontal length of the plant was decided to be 21 ft because we wanted 3 feet in between each plant and 3 feet between the sedimentation tanks and the walls. 3 feet was chosen so that there would be sufficient space for the operator to walk between. Since each tank is 3 feet wide in diameter, this meant that there would be four 3 feet spaces between the tanks and between the walls and 3 tanks so total was 7*3=21 ft.\n",
    "\n",
    "Vertical length was decided to be 21 ft by 6 feet of space reserved for getting behind the plant. In the bottom of the picture there is a platform that will be the same height as the sedimentation tank so about 2 meters so that the plant operator can peer into the sedimenation tank as well as have access to the plate settlers. An additional 7 feet was reserved for the STaRS see calculation below. Lastly about 4 feet was added for the y-axis length of the sedimentation tank and another 4 feet between the flocculator and sedimentation tanks. \n"
   ]
  },
  {
   "cell_type": "code",
   "execution_count": null,
   "metadata": {},
   "outputs": [],
   "source": [
    "Sed_Tank_Diameter=36*u.inch\n",
    "Length_Top_Half=42.75*u.inch\n",
    "X_Sed_Tank=Length_Top_Half*math.cos(30)\n",
    "print(X_Sed_Tank.to(u.m))"
   ]
  },
  {
   "cell_type": "code",
   "execution_count": null,
   "metadata": {},
   "outputs": [],
   "source": [
    "Space_Between_Sed=3*u.ft\n",
    "Spaces=7\n",
    "Total_Ho_Length=Space_Between_Sed*Spaces\n",
    "Space_Platform=6*u.ft\n",
    "Vertical_Length_Sed=4*u.ft\n",
    "Space_Between_Flocc_Sed=4*u.ft\n",
    "\n",
    "print('The total horizontal length is',Total_Ho_Length.to(u.m))\n",
    "Area_Plant=21*u.ft*Total_Ho_Length\n",
    "Surface_Area_STaRS=(1.67*u.m**2/u.L)*3*u.L\n",
    "Length_STaRS=Surface_Area_STaRS**.5\n",
    "Total_Ve_Length=(np.round(Length_STaRS.to(u.ft)))+Space_Platform+Vertical_Length_Sed+Space_Between_Flocc_Sed\n",
    "print('The total vertical length is',Total_Ve_Length.to(u.m))\n",
    "print('The area that the STaRS will require is',Surface_Area_STaRS.to(u.m**2)) ##Approximately 7 ftx7ft\n",
    "print('Total area of the plant is',Area_Plant.to(u.m**2))"
   ]
  },
  {
   "cell_type": "code",
   "execution_count": 5,
   "metadata": {},
   "outputs": [
    {
     "data": {
      "text/html": [
       "6.400799999999999 meter"
      ],
      "text/latex": [
       "$6.400799999999999\\ \\mathrm{meter}$"
      ],
      "text/plain": [
       "<Quantity(6.400799999999999, 'meter')>"
      ]
     },
     "execution_count": 5,
     "metadata": {},
     "output_type": "execute_result"
    }
   ],
   "source": [
    "def Horizontal(Q):\n",
    "    Q_Plant=Q.to(u.L/u.s)\n",
    "    Extra_Space=6*u.ft\n",
    "    Horizontal_Distance=(2*Q_Plant.magnitude-1)*3*u.ft+Extra_Space #\n",
    "    return(Horizontal_Distance.to(u.m))\n",
    "Q_Plant_2=1*u.L/u.s\n",
    "Horizontal(Q_Plant)"
   ]
  },
  {
   "cell_type": "code",
   "execution_count": 9,
   "metadata": {},
   "outputs": [
    {
     "name": "stdout",
     "output_type": "stream",
     "text": [
      "Surface area required for the ESTaR(s) is 3 meter ** 2\n"
     ]
    },
    {
     "data": {
      "text/html": [
       "3.0 meter<sup>2</sup>"
      ],
      "text/latex": [
       "$3.0\\ \\mathrm{meter}^{2}$"
      ],
      "text/plain": [
       "<Quantity(3.0, 'meter ** 2')>"
      ]
     },
     "execution_count": 9,
     "metadata": {},
     "output_type": "execute_result"
    }
   ],
   "source": [
    "ESTaRS_SA=1*u.m**2/u.L\n",
    "def Area_ESTaRS(Q):\n",
    "    if Q.magnitude!=type(integer)\n",
    "    Q_Plant=Q.to(u.L/u.s)\n",
    "    Surface_Area_ESTaRS=(ESTaRS_SA.magnitude)*Q_Plant.magnitude\n",
    "    print('Surface area required for the ESTaR(s) is',Surface_Area_ESTaRS*u.m**2)\n",
    "    return(Surface_Area_ESTaRS*u.m**2)\n",
    "Area_ESTaRS(Q_Plant)\n",
    "        "
   ]
  },
  {
   "cell_type": "code",
   "execution_count": null,
   "metadata": {},
   "outputs": [],
   "source": [
    "def Horizontal(Q):\n",
    "    Q_Plant=Q.to(u.L/u.s)\n",
    "    Extra_Space=6*u.ft\n",
    "    Horizontal_Distance=(Q_Plant.magnitude)*3*u.ft+(Q_Plant.magnitude-1)*.1*u.m+Extra_Space #\n",
    "    return(Horizontal_Distance.to(u.m))\n",
    "\n",
    "Q_Plant_2=1*u.L/u.s\n",
    "Horizontal(Q_Plant)"
   ]
  },
  {
   "cell_type": "code",
   "execution_count": null,
   "metadata": {
    "collapsed": true
   },
   "outputs": [],
   "source": []
  }
 ],
 "metadata": {
  "kernelspec": {
   "display_name": "Python 3",
   "language": "python",
   "name": "python3"
  },
  "language_info": {
   "codemirror_mode": {
    "name": "ipython",
    "version": 3
   },
   "file_extension": ".py",
   "mimetype": "text/x-python",
   "name": "python",
   "nbconvert_exporter": "python",
   "pygments_lexer": "ipython3",
   "version": "3.6.3"
  }
 },
 "nbformat": 4,
 "nbformat_minor": 2
}
