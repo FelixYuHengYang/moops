{
 "cells": [
  {
   "cell_type": "code",
   "execution_count": 1,
   "metadata": {
    "collapsed": true
   },
   "outputs": [],
   "source": [
    "from aide_design.play import*\n",
    "from aide_design import cdc_functions as cdc\n",
    "from aide_design.unit_process_design.prefab import lfom_prefab_functional as lfom\n",
    "#Below are the items that were imported by the code above so that you know what abbreviations to use in your code.\n",
    "\n",
    "# Third-party imports\n",
    "#import numpy as np\n",
    "#import pandas as pd\n",
    "#import matplotlib.pyplot as plt\n",
    "#import matplotlib\n",
    "\n",
    "# AIDE imports\n",
    "#import aide_design\n",
    "#import aide_design.pipedatabase as pipe\n",
    "#from aide_design.units import unit_registry as u\n",
    "#from aide_design import physchem as pc\n",
    "#import aide_design.expert_inputs as exp\n",
    "#import aide_design.materials_database as mat\n",
    "#import aide_design.utility as ut\n",
    "#import aide_design.k_value_of_reductions_utility as k\n",
    "#import aide_design.pipeline_utility as pipeline\n",
    "#import warnings\n"
   ]
  },
  {
   "cell_type": "code",
   "execution_count": 2,
   "metadata": {
    "collapsed": true
   },
   "outputs": [],
   "source": [
    "## Set parameters of plant below"
   ]
  },
  {
   "cell_type": "code",
   "execution_count": 3,
   "metadata": {
    "collapsed": true
   },
   "outputs": [],
   "source": [
    "Q_plant=1*u.L/u.s\n",
    "T = u.Quantity(20,u.degC)\n",
    "\n",
    "Headloss=10*u.cm\n",
    "C_stock_PACl=70*u.gram/u.L\n",
    "NuPaCl = cdc.viscosity_kinematic_pacl(C_stock_PACl,T)\n",
    "DesiredCl_Concentration=3*u.mg/u.L\n",
    "RatioError = 0.1\n",
    "KMinor = 2"
   ]
  },
  {
   "cell_type": "code",
   "execution_count": 4,
   "metadata": {},
   "outputs": [
    {
     "name": "stdout",
     "output_type": "stream",
     "text": [
      "0.04286 milliliter / second\n",
      "0.1543 liter / hour\n"
     ]
    }
   ],
   "source": [
    "Q_CDC=(Q_plant*DesiredCl_Concentration/C_stock_PACl).to(u.mL/u.s)\n",
    "print(Q_CDC) ##mL/sec\n",
    "print(Q_CDC.to(u.L/u.hour)) ##L/hr"
   ]
  },
  {
   "cell_type": "code",
   "execution_count": 5,
   "metadata": {
    "collapsed": true
   },
   "outputs": [],
   "source": [
    "##Find diameter of dooosing toob"
   ]
  },
  {
   "cell_type": "code",
   "execution_count": 6,
   "metadata": {},
   "outputs": [
    {
     "name": "stdout",
     "output_type": "stream",
     "text": [
      "The maximum average velocity in a dosing tube is 0.3132 meter / second\n"
     ]
    }
   ],
   "source": [
    "DiamTubeArray = np.array(np.arange(1/16,3/16,1/16)) * u.inch ## 1/16 or 1/8 inch tubing\n",
    "\n",
    "\n",
    "VelTubeMax = (((RatioError * 2 * Headloss * pc.gravity) / KMinor)**(1/2)).to(u.meter/u.s)\n",
    "print('The maximum average velocity in a dosing tube is',VelTubeMax)"
   ]
  },
  {
   "cell_type": "code",
   "execution_count": 7,
   "metadata": {
    "collapsed": true
   },
   "outputs": [],
   "source": [
    "##Flow rates for tubes"
   ]
  },
  {
   "cell_type": "code",
   "execution_count": 8,
   "metadata": {},
   "outputs": [
    {
     "data": {
      "text/html": [
       "\\[\\begin{pmatrix}0.619837271196476 & 2.479349084785904\\end{pmatrix} milliliter/second\\]"
      ],
      "text/latex": [
       "$\\begin{pmatrix}0.619837271196476 & 2.479349084785904\\end{pmatrix}\\ \\frac{\\mathrm{milliliter}}{\\mathrm{second}}$"
      ],
      "text/plain": [
       "<Quantity([ 0.61983727  2.47934908], 'milliliter / second')>"
      ]
     },
     "execution_count": 8,
     "metadata": {},
     "output_type": "execute_result"
    }
   ],
   "source": [
    "def flow_cdc_max(diam, VelTubeMax): \n",
    "    Flow = pc.area_circle(diam) * (VelTubeMax)\n",
    "    return Flow\n",
    "        \n",
    "FlowMaxArray = flow_cdc_max(DiamTubeArray, VelTubeMax).to(u.mL/u.s)\n",
    "FlowMaxArray"
   ]
  },
  {
   "cell_type": "markdown",
   "metadata": {
    "collapsed": true
   },
   "source": [
    "## Lengths for each tube\n",
    "Here you need to use the actual maximum flow rate based on the chemical dose that you want to apply. You mistakenly used the maximum flow that maintains linearity. "
   ]
  },
  {
   "cell_type": "code",
   "execution_count": 9,
   "metadata": {},
   "outputs": [
    {
     "name": "stdout",
     "output_type": "stream",
     "text": [
      "[ 0.20591553  0.82366212]\n"
     ]
    }
   ],
   "source": [
    "def length_tube(flow_max, diam, headloss_max, NuPaCl, k_minor):\n",
    "    \"Returns the length of tube necessary to handle the maximum flow.\"\n",
    "    L = (((pc.gravity * headloss_max * np.pi * diam**4)/\n",
    "                           (128 * NuPaCl * flow_max))-\n",
    "                    ((k_minor * flow_max)/\n",
    "                             (16 * np.pi * NuPaCl)))\n",
    "    return L \n",
    "length_dosingtube=length_tube(FlowMaxArray, DiamTubeArray,Headloss, NuPaCl,KMinor)\n",
    "print(length_dosingtube.to(u.m).magnitude)"
   ]
  },
  {
   "cell_type": "code",
   "execution_count": 10,
   "metadata": {
    "collapsed": true
   },
   "outputs": [],
   "source": [
    "##Both are reasonably lengthed. .22 would be easier to wrap around so I conclude that we should use the 1/16th diameter tubing. \n"
   ]
  },
  {
   "cell_type": "code",
   "execution_count": null,
   "metadata": {
    "collapsed": true
   },
   "outputs": [],
   "source": []
  },
  {
   "cell_type": "code",
   "execution_count": null,
   "metadata": {
    "collapsed": true
   },
   "outputs": [],
   "source": []
  }
 ],
 "metadata": {
  "kernelspec": {
   "display_name": "Python 3",
   "language": "python",
   "name": "python3"
  },
  "language_info": {
   "codemirror_mode": {
    "name": "ipython",
    "version": 3
   },
   "file_extension": ".py",
   "mimetype": "text/x-python",
   "name": "python",
   "nbconvert_exporter": "python",
   "pygments_lexer": "ipython3",
   "version": "3.6.3"
  }
 },
 "nbformat": 4,
 "nbformat_minor": 2
}
